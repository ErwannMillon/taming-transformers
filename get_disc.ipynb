{
 "cells": [
  {
   "cell_type": "code",
   "execution_count": 1,
   "metadata": {},
   "outputs": [
    {
     "name": "stderr",
     "output_type": "stream",
     "text": [
      "/opt/homebrew/Caskroom/miniforge/base/envs/taming/lib/python3.8/site-packages/tqdm/auto.py:22: TqdmWarning: IProgress not found. Please update jupyter and ipywidgets. See https://ipywidgets.readthedocs.io/en/stable/user_install.html\n",
      "  from .autonotebook import tqdm as notebook_tqdm\n"
     ]
    }
   ],
   "source": [
    "import sys\n",
    "sys.path.append(\".\")\n",
    "\n",
    "# also disable grad to save memory\n",
    "import torch\n",
    "torch.set_grad_enabled(False)\n",
    "\n",
    "DEVICE = torch.device(\"cuda:0\" if torch.cuda.is_available() else \"cpu\")"
   ]
  },
  {
   "cell_type": "code",
   "execution_count": 2,
   "metadata": {},
   "outputs": [],
   "source": [
    "import sys\n",
    "sys.path.append(\".\")\n",
    "\n",
    "# also disable grad to save memory\n",
    "import torch\n",
    "torch.set_grad_enabled(False)\n",
    "\n",
    "DEVICE = torch.device(\"cuda:0\" if torch.cuda.is_available() else \"cpu\")"
   ]
  },
  {
   "cell_type": "code",
   "execution_count": null,
   "metadata": {},
   "outputs": [],
   "source": [
    "import torch\n",
    "import importlib\n",
    "def get_obj_from_str(string, reload=False):\n",
    "    module, cls = string.rsplit(\".\", 1)\n",
    "    if reload:\n",
    "        module_imp = importlib.import_module(module)\n",
    "        importlib.reload(module_imp)\n",
    "    return getattr(importlib.import_module(module, package=None), cls)\n",
    "\n",
    "def instantiate_from_config(config):\n",
    "\n",
    "    if not \"target\" in config:\n",
    "        raise KeyError(\"Expected key `target` to instantiate.\")\n",
    "    return get_obj_from_str(config[\"target\"])(**config.get(\"params\", dict()))\n",
    "\n",
    "def load_model_from_config(config, sd, gpu=True, eval_mode=True):\n",
    "    model = instantiate_from_config(config)\n",
    "    if sd is not None:\n",
    "        model.load_state_dict(sd)\n",
    "    if gpu:\n",
    "        model.cuda()\n",
    "    if eval_mode:\n",
    "        model.eval()\n",
    "    return {\"model\": model}\n",
    "\n",
    "\n",
    "def load_model(config, ckpt, gpu, eval_mode):\n",
    "    # load the specified checkpoint\n",
    "    if ckpt:\n",
    "        pl_sd = torch.load(ckpt, map_location=\"cpu\")\n",
    "        global_step = pl_sd[\"global_step\"]\n",
    "        print(f\"loaded model from global step {global_step}.\")\n",
    "    else:\n",
    "        pl_sd = {\"state_dict\": None}\n",
    "        global_step = None\n",
    "    model = load_model_from_config(config.model, pl_sd[\"state_dict\"], gpu=gpu, eval_mode=eval_mode)[\"model\"]\n",
    "    return model, global_step"
   ]
  },
  {
   "cell_type": "code",
   "execution_count": null,
   "metadata": {},
   "outputs": [],
   "source": []
  }
 ],
 "metadata": {
  "kernelspec": {
   "display_name": "Python 3.8.15 ('taming')",
   "language": "python",
   "name": "python3"
  },
  "language_info": {
   "codemirror_mode": {
    "name": "ipython",
    "version": 3
   },
   "file_extension": ".py",
   "mimetype": "text/x-python",
   "name": "python",
   "nbconvert_exporter": "python",
   "pygments_lexer": "ipython3",
   "version": "3.8.15"
  },
  "orig_nbformat": 4,
  "vscode": {
   "interpreter": {
    "hash": "b6ff10f169a07ed0fcadf2f6a912b7f49d6d82f7346fa8b5f11caac0fcb94dc7"
   }
  }
 },
 "nbformat": 4,
 "nbformat_minor": 2
}
