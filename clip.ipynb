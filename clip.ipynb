{
 "cells": [
  {
   "cell_type": "code",
   "execution_count": 2,
   "metadata": {},
   "outputs": [],
   "source": [
    "DEVICE = \"cpu\""
   ]
  },
  {
   "cell_type": "code",
   "execution_count": 3,
   "metadata": {},
   "outputs": [
    {
     "name": "stdout",
     "output_type": "stream",
     "text": [
      "tensor([[24.5701, 19.3049]], grad_fn=<TBackward0>)\n",
      "tensor([[0.9949, 0.0051]], grad_fn=<SoftmaxBackward0>)\n"
     ]
    }
   ],
   "source": [
    "from PIL import Image\n",
    "import requests\n",
    "\n",
    "from transformers import CLIPProcessor, CLIPModel\n",
    "\n",
    "clip = CLIPModel.from_pretrained(\"openai/clip-vit-base-patch32\").to(DEVICE)\n",
    "processor = CLIPProcessor.from_pretrained(\"openai/clip-vit-base-patch32\")"
   ]
  },
  {
   "cell_type": "code",
   "execution_count": 3,
   "metadata": {},
   "outputs": [
    {
     "name": "stdout",
     "output_type": "stream",
     "text": [
      "Working with z of shape (1, 256, 16, 16) = 65536 dimensions.\n"
     ]
    }
   ],
   "source": [
    "import torch\n",
    "import importlib\n",
    "import loaders\n",
    "import functools\n",
    "import edit\n",
    "import importlib\n",
    "import taming.modules.vqvae.quantize\n",
    "importlib.reload( taming.modules.vqvae.quantize)\n",
    "importlib.reload(loaders)\n",
    "from loaders import load_default\n",
    "\n",
    "model = load_default(DEVICE).to(DEVICE)"
   ]
  },
  {
   "cell_type": "code",
   "execution_count": 10,
   "metadata": {},
   "outputs": [
    {
     "data": {
      "text/plain": [
       "'cpu'"
      ]
     },
     "execution_count": 10,
     "metadata": {},
     "output_type": "execute_result"
    }
   ],
   "source": [
    "x = list(model.parameters())[0]\n",
    "DEVICE"
   ]
  },
  {
   "cell_type": "code",
   "execution_count": 13,
   "metadata": {},
   "outputs": [
    {
     "name": "stderr",
     "output_type": "stream",
     "text": [
      "/opt/homebrew/Caskroom/miniforge/base/envs/taming/lib/python3.8/site-packages/torchvision/transforms/functional.py:442: UserWarning: Argument 'interpolation' of type int is deprecated since 0.13 and will be removed in 0.15. Please use InterpolationMode enum.\n",
      "  warnings.warn(\n"
     ]
    },
    {
     "ename": "KeyboardInterrupt",
     "evalue": "",
     "output_type": "error",
     "traceback": [
      "\u001b[0;31m---------------------------------------------------------------------------\u001b[0m",
      "\u001b[0;31mKeyboardInterrupt\u001b[0m                         Traceback (most recent call last)",
      "Cell \u001b[0;32mIn [13], line 3\u001b[0m\n\u001b[1;32m      1\u001b[0m \u001b[39mfrom\u001b[39;00m \u001b[39mlatent_utils\u001b[39;00m \u001b[39mimport\u001b[39;00m \u001b[39m*\u001b[39m\n\u001b[1;32m      2\u001b[0m \u001b[39m# x = get_latent_from_path(\"./women_aligned/1.png\", model, device=DEVICE)\u001b[39;00m\n\u001b[0;32m----> 3\u001b[0m latent \u001b[39m=\u001b[39m get_latent_from_path(\u001b[39m\"\u001b[39;49m\u001b[39m./test_data/face.jpeg\u001b[39;49m\u001b[39m\"\u001b[39;49m, model, device\u001b[39m=\u001b[39;49mDEVICE)\n\u001b[1;32m      4\u001b[0m \u001b[39m# y = get_latent_from_path(\"./women_aligned/2.png\", model)\u001b[39;00m\n\u001b[1;32m      5\u001b[0m \u001b[39m# im_x = show_latent(model, x)\u001b[39;00m\n\u001b[1;32m      6\u001b[0m \u001b[39m# im_y = show_latent(model, y)\u001b[39;00m\n",
      "File \u001b[0;32m~/dl/taming-transformers/latent_utils.py:10\u001b[0m, in \u001b[0;36mget_latent_from_path\u001b[0;34m(path, model, device)\u001b[0m\n\u001b[1;32m      7\u001b[0m x \u001b[39m=\u001b[39m x\u001b[39m.\u001b[39mto(device)\n\u001b[1;32m      9\u001b[0m x_processed \u001b[39m=\u001b[39m preprocess_vqgan(x)\n\u001b[0;32m---> 10\u001b[0m x_latent, _, [_, _, indices] \u001b[39m=\u001b[39m model\u001b[39m.\u001b[39;49mencode(x_processed)\n\u001b[1;32m     11\u001b[0m \u001b[39mreturn\u001b[39;00m x_latent\n",
      "File \u001b[0;32m~/dl/taming-transformers/taming/models/vqgan.py:56\u001b[0m, in \u001b[0;36mVQModel.encode\u001b[0;34m(self, x)\u001b[0m\n\u001b[1;32m     55\u001b[0m \u001b[39mdef\u001b[39;00m \u001b[39mencode\u001b[39m(\u001b[39mself\u001b[39m, x):\n\u001b[0;32m---> 56\u001b[0m     h \u001b[39m=\u001b[39m \u001b[39mself\u001b[39;49m\u001b[39m.\u001b[39;49mencoder(x)\n\u001b[1;32m     57\u001b[0m     h \u001b[39m=\u001b[39m \u001b[39mself\u001b[39m\u001b[39m.\u001b[39mquant_conv(h)\n\u001b[1;32m     58\u001b[0m     quant, emb_loss, info \u001b[39m=\u001b[39m \u001b[39mself\u001b[39m\u001b[39m.\u001b[39mquantize(h)\n",
      "File \u001b[0;32m/opt/homebrew/Caskroom/miniforge/base/envs/taming/lib/python3.8/site-packages/torch/nn/modules/module.py:1190\u001b[0m, in \u001b[0;36mModule._call_impl\u001b[0;34m(self, *input, **kwargs)\u001b[0m\n\u001b[1;32m   1186\u001b[0m \u001b[39m# If we don't have any hooks, we want to skip the rest of the logic in\u001b[39;00m\n\u001b[1;32m   1187\u001b[0m \u001b[39m# this function, and just call forward.\u001b[39;00m\n\u001b[1;32m   1188\u001b[0m \u001b[39mif\u001b[39;00m \u001b[39mnot\u001b[39;00m (\u001b[39mself\u001b[39m\u001b[39m.\u001b[39m_backward_hooks \u001b[39mor\u001b[39;00m \u001b[39mself\u001b[39m\u001b[39m.\u001b[39m_forward_hooks \u001b[39mor\u001b[39;00m \u001b[39mself\u001b[39m\u001b[39m.\u001b[39m_forward_pre_hooks \u001b[39mor\u001b[39;00m _global_backward_hooks\n\u001b[1;32m   1189\u001b[0m         \u001b[39mor\u001b[39;00m _global_forward_hooks \u001b[39mor\u001b[39;00m _global_forward_pre_hooks):\n\u001b[0;32m-> 1190\u001b[0m     \u001b[39mreturn\u001b[39;00m forward_call(\u001b[39m*\u001b[39;49m\u001b[39minput\u001b[39;49m, \u001b[39m*\u001b[39;49m\u001b[39m*\u001b[39;49mkwargs)\n\u001b[1;32m   1191\u001b[0m \u001b[39m# Do not call functions when jit is used\u001b[39;00m\n\u001b[1;32m   1192\u001b[0m full_backward_hooks, non_full_backward_hooks \u001b[39m=\u001b[39m [], []\n",
      "File \u001b[0;32m~/dl/taming-transformers/taming/modules/diffusionmodules/model.py:416\u001b[0m, in \u001b[0;36mEncoder.forward\u001b[0;34m(self, x)\u001b[0m\n\u001b[1;32m    414\u001b[0m \u001b[39mfor\u001b[39;00m i_level \u001b[39min\u001b[39;00m \u001b[39mrange\u001b[39m(\u001b[39mself\u001b[39m\u001b[39m.\u001b[39mnum_resolutions):\n\u001b[1;32m    415\u001b[0m     \u001b[39mfor\u001b[39;00m i_block \u001b[39min\u001b[39;00m \u001b[39mrange\u001b[39m(\u001b[39mself\u001b[39m\u001b[39m.\u001b[39mnum_res_blocks):\n\u001b[0;32m--> 416\u001b[0m         h \u001b[39m=\u001b[39m \u001b[39mself\u001b[39;49m\u001b[39m.\u001b[39;49mdown[i_level]\u001b[39m.\u001b[39;49mblock[i_block](hs[\u001b[39m-\u001b[39;49m\u001b[39m1\u001b[39;49m], temb)\n\u001b[1;32m    417\u001b[0m         \u001b[39mif\u001b[39;00m \u001b[39mlen\u001b[39m(\u001b[39mself\u001b[39m\u001b[39m.\u001b[39mdown[i_level]\u001b[39m.\u001b[39mattn) \u001b[39m>\u001b[39m \u001b[39m0\u001b[39m:\n\u001b[1;32m    418\u001b[0m             h \u001b[39m=\u001b[39m \u001b[39mself\u001b[39m\u001b[39m.\u001b[39mdown[i_level]\u001b[39m.\u001b[39mattn[i_block](h)\n",
      "File \u001b[0;32m/opt/homebrew/Caskroom/miniforge/base/envs/taming/lib/python3.8/site-packages/torch/nn/modules/module.py:1190\u001b[0m, in \u001b[0;36mModule._call_impl\u001b[0;34m(self, *input, **kwargs)\u001b[0m\n\u001b[1;32m   1186\u001b[0m \u001b[39m# If we don't have any hooks, we want to skip the rest of the logic in\u001b[39;00m\n\u001b[1;32m   1187\u001b[0m \u001b[39m# this function, and just call forward.\u001b[39;00m\n\u001b[1;32m   1188\u001b[0m \u001b[39mif\u001b[39;00m \u001b[39mnot\u001b[39;00m (\u001b[39mself\u001b[39m\u001b[39m.\u001b[39m_backward_hooks \u001b[39mor\u001b[39;00m \u001b[39mself\u001b[39m\u001b[39m.\u001b[39m_forward_hooks \u001b[39mor\u001b[39;00m \u001b[39mself\u001b[39m\u001b[39m.\u001b[39m_forward_pre_hooks \u001b[39mor\u001b[39;00m _global_backward_hooks\n\u001b[1;32m   1189\u001b[0m         \u001b[39mor\u001b[39;00m _global_forward_hooks \u001b[39mor\u001b[39;00m _global_forward_pre_hooks):\n\u001b[0;32m-> 1190\u001b[0m     \u001b[39mreturn\u001b[39;00m forward_call(\u001b[39m*\u001b[39;49m\u001b[39minput\u001b[39;49m, \u001b[39m*\u001b[39;49m\u001b[39m*\u001b[39;49mkwargs)\n\u001b[1;32m   1191\u001b[0m \u001b[39m# Do not call functions when jit is used\u001b[39;00m\n\u001b[1;32m   1192\u001b[0m full_backward_hooks, non_full_backward_hooks \u001b[39m=\u001b[39m [], []\n",
      "File \u001b[0;32m~/dl/taming-transformers/taming/modules/diffusionmodules/model.py:121\u001b[0m, in \u001b[0;36mResnetBlock.forward\u001b[0;34m(self, x, temb)\u001b[0m\n\u001b[1;32m    119\u001b[0m h \u001b[39m=\u001b[39m \u001b[39mself\u001b[39m\u001b[39m.\u001b[39mnorm1(h)\n\u001b[1;32m    120\u001b[0m h \u001b[39m=\u001b[39m nonlinearity(h)\n\u001b[0;32m--> 121\u001b[0m h \u001b[39m=\u001b[39m \u001b[39mself\u001b[39;49m\u001b[39m.\u001b[39;49mconv1(h)\n\u001b[1;32m    123\u001b[0m \u001b[39mif\u001b[39;00m temb \u001b[39mis\u001b[39;00m \u001b[39mnot\u001b[39;00m \u001b[39mNone\u001b[39;00m:\n\u001b[1;32m    124\u001b[0m     h \u001b[39m=\u001b[39m h \u001b[39m+\u001b[39m \u001b[39mself\u001b[39m\u001b[39m.\u001b[39mtemb_proj(nonlinearity(temb))[:,:,\u001b[39mNone\u001b[39;00m,\u001b[39mNone\u001b[39;00m]\n",
      "File \u001b[0;32m/opt/homebrew/Caskroom/miniforge/base/envs/taming/lib/python3.8/site-packages/torch/nn/modules/module.py:1190\u001b[0m, in \u001b[0;36mModule._call_impl\u001b[0;34m(self, *input, **kwargs)\u001b[0m\n\u001b[1;32m   1186\u001b[0m \u001b[39m# If we don't have any hooks, we want to skip the rest of the logic in\u001b[39;00m\n\u001b[1;32m   1187\u001b[0m \u001b[39m# this function, and just call forward.\u001b[39;00m\n\u001b[1;32m   1188\u001b[0m \u001b[39mif\u001b[39;00m \u001b[39mnot\u001b[39;00m (\u001b[39mself\u001b[39m\u001b[39m.\u001b[39m_backward_hooks \u001b[39mor\u001b[39;00m \u001b[39mself\u001b[39m\u001b[39m.\u001b[39m_forward_hooks \u001b[39mor\u001b[39;00m \u001b[39mself\u001b[39m\u001b[39m.\u001b[39m_forward_pre_hooks \u001b[39mor\u001b[39;00m _global_backward_hooks\n\u001b[1;32m   1189\u001b[0m         \u001b[39mor\u001b[39;00m _global_forward_hooks \u001b[39mor\u001b[39;00m _global_forward_pre_hooks):\n\u001b[0;32m-> 1190\u001b[0m     \u001b[39mreturn\u001b[39;00m forward_call(\u001b[39m*\u001b[39;49m\u001b[39minput\u001b[39;49m, \u001b[39m*\u001b[39;49m\u001b[39m*\u001b[39;49mkwargs)\n\u001b[1;32m   1191\u001b[0m \u001b[39m# Do not call functions when jit is used\u001b[39;00m\n\u001b[1;32m   1192\u001b[0m full_backward_hooks, non_full_backward_hooks \u001b[39m=\u001b[39m [], []\n",
      "File \u001b[0;32m/opt/homebrew/Caskroom/miniforge/base/envs/taming/lib/python3.8/site-packages/torch/nn/modules/conv.py:463\u001b[0m, in \u001b[0;36mConv2d.forward\u001b[0;34m(self, input)\u001b[0m\n\u001b[1;32m    462\u001b[0m \u001b[39mdef\u001b[39;00m \u001b[39mforward\u001b[39m(\u001b[39mself\u001b[39m, \u001b[39minput\u001b[39m: Tensor) \u001b[39m-\u001b[39m\u001b[39m>\u001b[39m Tensor:\n\u001b[0;32m--> 463\u001b[0m     \u001b[39mreturn\u001b[39;00m \u001b[39mself\u001b[39;49m\u001b[39m.\u001b[39;49m_conv_forward(\u001b[39minput\u001b[39;49m, \u001b[39mself\u001b[39;49m\u001b[39m.\u001b[39;49mweight, \u001b[39mself\u001b[39;49m\u001b[39m.\u001b[39;49mbias)\n",
      "File \u001b[0;32m/opt/homebrew/Caskroom/miniforge/base/envs/taming/lib/python3.8/site-packages/torch/nn/modules/conv.py:459\u001b[0m, in \u001b[0;36mConv2d._conv_forward\u001b[0;34m(self, input, weight, bias)\u001b[0m\n\u001b[1;32m    455\u001b[0m \u001b[39mif\u001b[39;00m \u001b[39mself\u001b[39m\u001b[39m.\u001b[39mpadding_mode \u001b[39m!=\u001b[39m \u001b[39m'\u001b[39m\u001b[39mzeros\u001b[39m\u001b[39m'\u001b[39m:\n\u001b[1;32m    456\u001b[0m     \u001b[39mreturn\u001b[39;00m F\u001b[39m.\u001b[39mconv2d(F\u001b[39m.\u001b[39mpad(\u001b[39minput\u001b[39m, \u001b[39mself\u001b[39m\u001b[39m.\u001b[39m_reversed_padding_repeated_twice, mode\u001b[39m=\u001b[39m\u001b[39mself\u001b[39m\u001b[39m.\u001b[39mpadding_mode),\n\u001b[1;32m    457\u001b[0m                     weight, bias, \u001b[39mself\u001b[39m\u001b[39m.\u001b[39mstride,\n\u001b[1;32m    458\u001b[0m                     _pair(\u001b[39m0\u001b[39m), \u001b[39mself\u001b[39m\u001b[39m.\u001b[39mdilation, \u001b[39mself\u001b[39m\u001b[39m.\u001b[39mgroups)\n\u001b[0;32m--> 459\u001b[0m \u001b[39mreturn\u001b[39;00m F\u001b[39m.\u001b[39;49mconv2d(\u001b[39minput\u001b[39;49m, weight, bias, \u001b[39mself\u001b[39;49m\u001b[39m.\u001b[39;49mstride,\n\u001b[1;32m    460\u001b[0m                 \u001b[39mself\u001b[39;49m\u001b[39m.\u001b[39;49mpadding, \u001b[39mself\u001b[39;49m\u001b[39m.\u001b[39;49mdilation, \u001b[39mself\u001b[39;49m\u001b[39m.\u001b[39;49mgroups)\n",
      "\u001b[0;31mKeyboardInterrupt\u001b[0m: "
     ]
    }
   ],
   "source": [
    "from latent_utils import *\n",
    "# x = get_latent_from_path(\"./women_aligned/1.png\", model, device=DEVICE)\n",
    "latent = get_latent_from_path(\"./test_data/face.jpeg\", model, device=DEVICE)\n",
    "# y = get_latent_from_path(\"./women_aligned/2.png\", model)\n",
    "# im_x = show_latent(model, x)\n",
    "# im_y = show_latent(model, y)"
   ]
  },
  {
   "cell_type": "code",
   "execution_count": null,
   "metadata": {},
   "outputs": [],
   "source": [
    "# inputs = processor(text=[\"a photo of a man\", \"a photo of a woman\"], images=im_x, return_tensors=\"pt\", padding=True)\n",
    "\n",
    "# outputs = clip(**inputs)\n",
    "# logits_per_image = outputs.logits_per_image  # this is the image-text similarity score\n",
    "# probs = logits_per_image.softmax(dim=1)  # we can take the softmax to get the label probabilities\n",
    "# target = torch.Tensor([1, 0])\n",
    "# print(logits_per_image)\n",
    "# print(logits_per_image.shape)\n",
    "# # print(probs)"
   ]
  },
  {
   "cell_type": "code",
   "execution_count": null,
   "metadata": {},
   "outputs": [],
   "source": [
    "target = torch.Tensor([1, 0])"
   ]
  },
  {
   "cell_type": "code",
   "execution_count": null,
   "metadata": {},
   "outputs": [],
   "source": [
    "tvec = torch.randn_like(latent)\n",
    "show_latent(model, latent + tvec)"
   ]
  },
  {
   "cell_type": "code",
   "execution_count": null,
   "metadata": {},
   "outputs": [],
   "source": [
    "print(target)\n",
    "list(model.parameters())[0]"
   ]
  },
  {
   "cell_type": "code",
   "execution_count": null,
   "metadata": {},
   "outputs": [],
   "source": [
    "import torch.nn as nn\n",
    "from img_processing import *\n",
    "class TensorExtractor(nn.Module):\n",
    "    def __init__(self, latent) -> None:\n",
    "        super().__init__()\n",
    "        #TODO tighter distribution\n",
    "        self.latent = latent\n",
    "        self.loss_fn = torch.nn.BCELoss()\n",
    "        self.logits_loss = torch.nn.BCEWithLogitsLoss()\n",
    "        self.optim = torch.optim.Adam([self.vector])\n",
    "    def forward(self):\n",
    "        trans_latent = self.latent + self.vector\n",
    "        dec = model.decode(trans_latent.to(DEVICE))\n",
    "        trans_im = custom_to_pil(dec[0])\n",
    "        return trans_im, self.vector\n",
    "\n",
    "def train(model):\n",
    "    latent = get_latent_from_path(\"./test_data/face.jpeg\", model)\n",
    "    vector = torch.randn_like(latent)\n",
    "    optim = torch.optim.Adam([self.vector])\n",
    "    for i in range 100:\n",
    "        trans_im, vector = \n",
    "        inputs = processor(text=[\"a photo of a man\", \"a photo of a woman\"], images=trans_im, return_tensors=\"pt\", padding=True)\n",
    "        outputs = clip(**inputs)\n",
    "        logits_per_image = outputs.logits_per_image  # this is the image-text similarity score\n",
    "        probs = logits_per_image.softmax(dim=1) \n",
    "        self.optim.zero_grad()\n",
    "        loss = self.logits_loss(logits_per_image, target) \n",
    "        loss.backward()\n",
    "\n",
    "\n",
    "\n",
    "        \n",
    "\n"
   ]
  },
  {
   "cell_type": "code",
   "execution_count": 5,
   "metadata": {},
   "outputs": [
    {
     "ename": "NameError",
     "evalue": "name 'latent' is not defined",
     "output_type": "error",
     "traceback": [
      "\u001b[0;31m---------------------------------------------------------------------------\u001b[0m",
      "\u001b[0;31mNameError\u001b[0m                                 Traceback (most recent call last)",
      "Cell \u001b[0;32mIn [5], line 49\u001b[0m\n\u001b[1;32m     46\u001b[0m         show_latent(\u001b[39mself\u001b[39m\u001b[39m.\u001b[39mmodel, \u001b[39mself\u001b[39m\u001b[39m.\u001b[39mlatent \u001b[39m+\u001b[39m vector)\n\u001b[1;32m     47\u001b[0m         \u001b[39mreturn\u001b[39;00m vector\n\u001b[0;32m---> 49\u001b[0m ex \u001b[39m=\u001b[39m TensorExtractor(latent, model)\u001b[39m.\u001b[39mto(DEVICE)\n\u001b[1;32m     50\u001b[0m vec \u001b[39m=\u001b[39m ex\u001b[39m.\u001b[39moptimize()\n\u001b[1;32m     53\u001b[0m \u001b[39m# from torch.utils.tensorboard import SummaryWriter\u001b[39;00m\n\u001b[1;32m     54\u001b[0m \n\u001b[1;32m     55\u001b[0m \u001b[39m# # default `log_dir` is \"runs\" - we'll be more specific here\u001b[39;00m\n\u001b[0;32m   (...)\u001b[0m\n\u001b[1;32m     58\u001b[0m \u001b[39m# writer.add_graph(ex, tvec)\u001b[39;00m\n\u001b[1;32m     59\u001b[0m \u001b[39m# writer.close()\u001b[39;00m\n",
      "\u001b[0;31mNameError\u001b[0m: name 'latent' is not defined"
     ]
    }
   ],
   "source": [
    "import torch.nn as nn\n",
    "from img_processing import *\n",
    "from utils import freeze_module\n",
    "import matplotlib.pyplot as plt\n",
    "from tqdm import tqdm\n",
    "class TensorExtractor(nn.Module):\n",
    "    def __init__(self, latent, model) -> None:\n",
    "        super().__init__()\n",
    "        #TODO tighter distribution\n",
    "        self.latent = latent\n",
    "        model.eval()\n",
    "        # freeze_module(model)\n",
    "        self.model = model\n",
    "        self.model.to_torchscript(method=\"trace\", example_inputs=torch.ones((1, 3, 256, 256)))\n",
    "        self.loss_fn = torch.nn.BCELoss()\n",
    "        self.logits_loss = torch.nn.BCEWithLogitsLoss()\n",
    "    def forward(self, vector):\n",
    "        trans_latent = self.latent + vector\n",
    "        dec = self.model.decode(trans_latent.to(DEVICE))\n",
    "        # trans_im = custom_to_pil(dec[0])\n",
    "        return dec.squeeze()\n",
    "    def optimize(self):\n",
    "        vector = torch.randn_like(latent, requires_grad=True)\n",
    "        target = torch.tensor([[1., 0.]])\n",
    "        self.optim = torch.optim.Adam([vector])\n",
    "        intermediate = []\n",
    "        for i in tqdm(range(40)):\n",
    "            self.optim.zero_grad()\n",
    "            trans_im = self(vector)\n",
    "            # if i % 10 == 0: \n",
    "            #     intermediate.append(trans_im)\n",
    "            #     plt.figure(figsize=(3, 3))\n",
    "            #     plt.imshow(custom_to_pil(trans_im[0]))\n",
    "            #     plt.show()\n",
    "            inputs = processor(text=[\"a photo of a man\", \"a photo of a woman\"], images=trans_im, return_tensors=\"pt\", padding=True)\n",
    "            \n",
    "            outputs = clip(**inputs)\n",
    "            logits_per_image = outputs.logits_per_image  # this is the image-text similarity score\n",
    "            print(torch.autograd.grad(torch.mean(outputs.logits_per_image), inputs))\n",
    "            # probs = logits_per_image.softmax(dim=1) \n",
    "            print(logits_per_image)\n",
    "            loss = self.logits_loss(logits_per_image, target) \n",
    "            print(loss)\n",
    "            loss.backward()\n",
    "            self.optim.step()\n",
    "        show_latent(self.model, self.latent + vector)\n",
    "        return vector\n",
    "\n",
    "ex = TensorExtractor(latent, model).to(DEVICE)\n",
    "vec = ex.optimize()\n",
    "\n",
    "\n",
    "# from torch.utils.tensorboard import SummaryWriter\n",
    "\n",
    "# # default `log_dir` is \"runs\" - we'll be more specific here\n",
    "# writer = SummaryWriter('runs/ex')\n",
    "# tvec = torch.randn_like(latent)\n",
    "# writer.add_graph(ex, tvec)\n",
    "# writer.close()\n",
    "\n",
    "\n",
    "        \n",
    "\n"
   ]
  },
  {
   "cell_type": "code",
   "execution_count": null,
   "metadata": {},
   "outputs": [],
   "source": [
    "\n",
    "vec"
   ]
  },
  {
   "cell_type": "code",
   "execution_count": null,
   "metadata": {},
   "outputs": [],
   "source": [
    "target = torch.tensor([[1., 0.]])"
   ]
  },
  {
   "cell_type": "code",
   "execution_count": null,
   "metadata": {},
   "outputs": [],
   "source": [
    "target.dtype"
   ]
  },
  {
   "cell_type": "code",
   "execution_count": null,
   "metadata": {},
   "outputs": [],
   "source": [
    "latent.shape"
   ]
  },
  {
   "cell_type": "code",
   "execution_count": null,
   "metadata": {},
   "outputs": [],
   "source": [
    "model.eval()\n",
    "x = next(model.parameters())\n",
    "x"
   ]
  },
  {
   "cell_type": "code",
   "execution_count": null,
   "metadata": {},
   "outputs": [],
   "source": [
    "t.shape"
   ]
  },
  {
   "cell_type": "code",
   "execution_count": null,
   "metadata": {},
   "outputs": [],
   "source": [
    "vec = torch.randn_like(latent)\n",
    "op = torch.optim.Adam([vec])\n",
    "print(op)"
   ]
  }
 ],
 "metadata": {
  "kernelspec": {
   "display_name": "taming",
   "language": "python",
   "name": "python3"
  },
  "language_info": {
   "codemirror_mode": {
    "name": "ipython",
    "version": 3
   },
   "file_extension": ".py",
   "mimetype": "text/x-python",
   "name": "python",
   "nbconvert_exporter": "python",
   "pygments_lexer": "ipython3",
   "version": "3.8.15"
  },
  "orig_nbformat": 4,
  "vscode": {
   "interpreter": {
    "hash": "b6ff10f169a07ed0fcadf2f6a912b7f49d6d82f7346fa8b5f11caac0fcb94dc7"
   }
  }
 },
 "nbformat": 4,
 "nbformat_minor": 2
}
